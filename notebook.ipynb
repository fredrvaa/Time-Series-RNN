{
 "cells": [
  {
   "cell_type": "markdown",
   "source": [
    "# Exploratory Data Analysis"
   ],
   "metadata": {
    "collapsed": false
   }
  },
  {
   "cell_type": "markdown",
   "source": [
    "## Imports"
   ],
   "metadata": {
    "collapsed": false
   }
  },
  {
   "cell_type": "code",
   "execution_count": 2,
   "metadata": {
    "collapsed": true,
    "pycharm": {
     "name": "#%%\n"
    }
   },
   "outputs": [],
   "source": [
    "import pandas as pd\n",
    "import numpy as np\n",
    "import matplotlib.pyplot as plt"
   ]
  },
  {
   "cell_type": "markdown",
   "source": [
    "## Load data"
   ],
   "metadata": {
    "collapsed": false
   }
  },
  {
   "cell_type": "code",
   "execution_count": 4,
   "outputs": [
    {
     "data": {
      "text/plain": "            start_time     hydro    micro  thermal    wind  river     total  \\\n0  2019-01-09 14:10:00  1591.839  141.928     11.5  74.428    0.0  1819.695   \n1  2019-01-09 14:15:00  1591.839  141.928     11.5  74.428    0.0  1819.695   \n2  2019-01-09 14:20:00  1591.839  141.928     11.5  74.428    0.0  1819.695   \n3  2019-01-09 14:25:00  1591.839  141.928     11.5  74.428    0.0  1819.695   \n4  2019-01-09 14:30:00  1591.839  141.928     11.5  74.428    0.0  1819.695   \n\n            y  sys_reg    flow  \n0  341.330021     10.0 -4417.4  \n1  330.114330     10.0 -4417.4  \n2  323.877221     10.0 -4417.4  \n3  296.438463     10.0 -4417.4  \n4  269.097132     10.0 -4417.4  ",
      "text/html": "<div>\n<style scoped>\n    .dataframe tbody tr th:only-of-type {\n        vertical-align: middle;\n    }\n\n    .dataframe tbody tr th {\n        vertical-align: top;\n    }\n\n    .dataframe thead th {\n        text-align: right;\n    }\n</style>\n<table border=\"1\" class=\"dataframe\">\n  <thead>\n    <tr style=\"text-align: right;\">\n      <th></th>\n      <th>start_time</th>\n      <th>hydro</th>\n      <th>micro</th>\n      <th>thermal</th>\n      <th>wind</th>\n      <th>river</th>\n      <th>total</th>\n      <th>y</th>\n      <th>sys_reg</th>\n      <th>flow</th>\n    </tr>\n  </thead>\n  <tbody>\n    <tr>\n      <th>0</th>\n      <td>2019-01-09 14:10:00</td>\n      <td>1591.839</td>\n      <td>141.928</td>\n      <td>11.5</td>\n      <td>74.428</td>\n      <td>0.0</td>\n      <td>1819.695</td>\n      <td>341.330021</td>\n      <td>10.0</td>\n      <td>-4417.4</td>\n    </tr>\n    <tr>\n      <th>1</th>\n      <td>2019-01-09 14:15:00</td>\n      <td>1591.839</td>\n      <td>141.928</td>\n      <td>11.5</td>\n      <td>74.428</td>\n      <td>0.0</td>\n      <td>1819.695</td>\n      <td>330.114330</td>\n      <td>10.0</td>\n      <td>-4417.4</td>\n    </tr>\n    <tr>\n      <th>2</th>\n      <td>2019-01-09 14:20:00</td>\n      <td>1591.839</td>\n      <td>141.928</td>\n      <td>11.5</td>\n      <td>74.428</td>\n      <td>0.0</td>\n      <td>1819.695</td>\n      <td>323.877221</td>\n      <td>10.0</td>\n      <td>-4417.4</td>\n    </tr>\n    <tr>\n      <th>3</th>\n      <td>2019-01-09 14:25:00</td>\n      <td>1591.839</td>\n      <td>141.928</td>\n      <td>11.5</td>\n      <td>74.428</td>\n      <td>0.0</td>\n      <td>1819.695</td>\n      <td>296.438463</td>\n      <td>10.0</td>\n      <td>-4417.4</td>\n    </tr>\n    <tr>\n      <th>4</th>\n      <td>2019-01-09 14:30:00</td>\n      <td>1591.839</td>\n      <td>141.928</td>\n      <td>11.5</td>\n      <td>74.428</td>\n      <td>0.0</td>\n      <td>1819.695</td>\n      <td>269.097132</td>\n      <td>10.0</td>\n      <td>-4417.4</td>\n    </tr>\n  </tbody>\n</table>\n</div>"
     },
     "execution_count": 4,
     "metadata": {},
     "output_type": "execute_result"
    }
   ],
   "source": [
    "train = pd.read_csv('data/no1_train.csv')\n",
    "test = pd.read_csv('data/no1_validation.csv')\n",
    "train.head()"
   ],
   "metadata": {
    "collapsed": false,
    "pycharm": {
     "name": "#%%\n"
    }
   }
  },
  {
   "cell_type": "code",
   "execution_count": 11,
   "outputs": [
    {
     "data": {
      "text/plain": "               hydro          micro        thermal           wind     river  \\\ncount  225088.000000  225088.000000  225088.000000  225088.000000  225088.0   \nmean     1888.334127     224.189826      21.803497      55.703266       0.0   \nstd       401.000305      58.559855       3.579229      47.053033       0.0   \nmin       683.438000      80.371000       0.000000       0.000000       0.0   \n25%      1625.029000     185.017000      22.100000      15.704000       0.0   \n50%      1933.916000     225.938000      22.100000      41.848000       0.0   \n75%      2175.595000     269.558000      24.100000      88.723000       0.0   \nmax      2995.524000     349.271000      25.700000     176.000000       0.0   \n\n               total              y        sys_reg           flow  \ncount  225088.000000  225088.000000  225088.000000  225088.000000  \nmean     2190.031963       8.907921      -8.284305   -1999.055081  \nstd       444.077730     320.262539      43.748315    1311.682286  \nmin       849.732000   -1579.680903    -828.000000   -5541.200000  \n25%      1916.523000    -142.226700       0.000000   -2996.700000  \n50%      2248.874000     -11.282351       0.000000   -1953.700000  \n75%      2497.792000     127.454943       0.000000    -906.900000  \nmax      3351.974000    2956.333317     474.000000     723.400000  ",
      "text/html": "<div>\n<style scoped>\n    .dataframe tbody tr th:only-of-type {\n        vertical-align: middle;\n    }\n\n    .dataframe tbody tr th {\n        vertical-align: top;\n    }\n\n    .dataframe thead th {\n        text-align: right;\n    }\n</style>\n<table border=\"1\" class=\"dataframe\">\n  <thead>\n    <tr style=\"text-align: right;\">\n      <th></th>\n      <th>hydro</th>\n      <th>micro</th>\n      <th>thermal</th>\n      <th>wind</th>\n      <th>river</th>\n      <th>total</th>\n      <th>y</th>\n      <th>sys_reg</th>\n      <th>flow</th>\n    </tr>\n  </thead>\n  <tbody>\n    <tr>\n      <th>count</th>\n      <td>225088.000000</td>\n      <td>225088.000000</td>\n      <td>225088.000000</td>\n      <td>225088.000000</td>\n      <td>225088.0</td>\n      <td>225088.000000</td>\n      <td>225088.000000</td>\n      <td>225088.000000</td>\n      <td>225088.000000</td>\n    </tr>\n    <tr>\n      <th>mean</th>\n      <td>1888.334127</td>\n      <td>224.189826</td>\n      <td>21.803497</td>\n      <td>55.703266</td>\n      <td>0.0</td>\n      <td>2190.031963</td>\n      <td>8.907921</td>\n      <td>-8.284305</td>\n      <td>-1999.055081</td>\n    </tr>\n    <tr>\n      <th>std</th>\n      <td>401.000305</td>\n      <td>58.559855</td>\n      <td>3.579229</td>\n      <td>47.053033</td>\n      <td>0.0</td>\n      <td>444.077730</td>\n      <td>320.262539</td>\n      <td>43.748315</td>\n      <td>1311.682286</td>\n    </tr>\n    <tr>\n      <th>min</th>\n      <td>683.438000</td>\n      <td>80.371000</td>\n      <td>0.000000</td>\n      <td>0.000000</td>\n      <td>0.0</td>\n      <td>849.732000</td>\n      <td>-1579.680903</td>\n      <td>-828.000000</td>\n      <td>-5541.200000</td>\n    </tr>\n    <tr>\n      <th>25%</th>\n      <td>1625.029000</td>\n      <td>185.017000</td>\n      <td>22.100000</td>\n      <td>15.704000</td>\n      <td>0.0</td>\n      <td>1916.523000</td>\n      <td>-142.226700</td>\n      <td>0.000000</td>\n      <td>-2996.700000</td>\n    </tr>\n    <tr>\n      <th>50%</th>\n      <td>1933.916000</td>\n      <td>225.938000</td>\n      <td>22.100000</td>\n      <td>41.848000</td>\n      <td>0.0</td>\n      <td>2248.874000</td>\n      <td>-11.282351</td>\n      <td>0.000000</td>\n      <td>-1953.700000</td>\n    </tr>\n    <tr>\n      <th>75%</th>\n      <td>2175.595000</td>\n      <td>269.558000</td>\n      <td>24.100000</td>\n      <td>88.723000</td>\n      <td>0.0</td>\n      <td>2497.792000</td>\n      <td>127.454943</td>\n      <td>0.000000</td>\n      <td>-906.900000</td>\n    </tr>\n    <tr>\n      <th>max</th>\n      <td>2995.524000</td>\n      <td>349.271000</td>\n      <td>25.700000</td>\n      <td>176.000000</td>\n      <td>0.0</td>\n      <td>3351.974000</td>\n      <td>2956.333317</td>\n      <td>474.000000</td>\n      <td>723.400000</td>\n    </tr>\n  </tbody>\n</table>\n</div>"
     },
     "execution_count": 11,
     "metadata": {},
     "output_type": "execute_result"
    }
   ],
   "source": [
    "train.describe()"
   ],
   "metadata": {
    "collapsed": false,
    "pycharm": {
     "name": "#%%\n"
    }
   }
  },
  {
   "cell_type": "markdown",
   "source": [],
   "metadata": {
    "collapsed": false
   }
  }
 ],
 "metadata": {
  "kernelspec": {
   "display_name": "Python 3",
   "language": "python",
   "name": "python3"
  },
  "language_info": {
   "codemirror_mode": {
    "name": "ipython",
    "version": 2
   },
   "file_extension": ".py",
   "mimetype": "text/x-python",
   "name": "python",
   "nbconvert_exporter": "python",
   "pygments_lexer": "ipython2",
   "version": "2.7.6"
  }
 },
 "nbformat": 4,
 "nbformat_minor": 0
}